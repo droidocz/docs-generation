{
 "cells": [
  {
   "cell_type": "markdown",
   "metadata": {},
   "source": [
    "# Generate Docs"
   ]
  },
  {
   "cell_type": "markdown",
   "metadata": {},
   "source": [
    "## Imports and definitions"
   ]
  },
  {
   "cell_type": "code",
   "execution_count": 1,
   "metadata": {},
   "outputs": [],
   "source": [
    "import os\n",
    "import shutil\n",
    "import pandas as pd\n",
    "import markdownify as md"
   ]
  },
  {
   "cell_type": "code",
   "execution_count": 2,
   "metadata": {},
   "outputs": [],
   "source": [
    "output_dir = 'output'"
   ]
  },
  {
   "cell_type": "markdown",
   "metadata": {},
   "source": [
    "## Create DataFrames"
   ]
  },
  {
   "cell_type": "code",
   "execution_count": 3,
   "metadata": {},
   "outputs": [],
   "source": [
    "comments_df = pd.read_csv('data/comments.csv')\n",
    "posts_questions_df = pd.read_csv('data/posts_questions.csv')\n",
    "posts_answers_df = pd.read_csv('data/posts_answers.csv')\n",
    "posts_tag_wiki_df = pd.read_csv('data/posts_tag_wiki.csv')\n",
    "posts_tag_wiki_excerpt_df = pd.read_csv('data/posts_tag_wiki_excerpt.csv')\n",
    "selected_tags_df = pd.read_csv('data/selected_tags.csv')\n",
    "tags_df = pd.read_csv('data/tags.csv')\n",
    "users_df = pd.read_csv('data/users.csv')"
   ]
  },
  {
   "cell_type": "markdown",
   "metadata": {},
   "source": [
    "## Development"
   ]
  },
  {
   "cell_type": "code",
   "execution_count": 4,
   "metadata": {},
   "outputs": [],
   "source": [
    "def tag_to_title(tag_name):\n",
    "    return ' '.join(word.capitalize() for word in tag_name.split('-'))\n",
    "\n",
    "def get_header(tag_name):\n",
    "    header_attrs = {\n",
    "        'title': tag_to_title(tag_name)\n",
    "    }\n",
    "    attrs_content = [f\"{key}: \\\"{value}\\\"\" for (key, value) in header_attrs.items()]\n",
    "    header_content = ['---'] + attrs_content + ['---\\n\\n']\n",
    "    return '\\n'.join(header_content)"
   ]
  },
  {
   "cell_type": "code",
   "execution_count": 5,
   "metadata": {},
   "outputs": [],
   "source": [
    "try:\n",
    "    shutil.rmtree(output_dir)\n",
    "except:\n",
    "    pass\n",
    "\n",
    "os.mkdir(output_dir)"
   ]
  },
  {
   "cell_type": "code",
   "execution_count": 6,
   "metadata": {},
   "outputs": [],
   "source": [
    "for idx, row in selected_tags_df.iterrows():\n",
    "    tag_name = row.tag_name \n",
    "    content = posts_tag_wiki_df.loc[posts_tag_wiki_df.id == row.wiki_post_id]['body'].values[0]\n",
    "    content_md = md.markdownify(content)\n",
    "    with open(f\"output/{tag_name}.md\", 'w+') as f:\n",
    "        f.write(get_header(tag_name) + content_md)\n",
    "        "
   ]
  },
  {
   "cell_type": "code",
   "execution_count": null,
   "metadata": {},
   "outputs": [],
   "source": []
  }
 ],
 "metadata": {
  "kernelspec": {
   "display_name": "Python 3",
   "language": "python",
   "name": "python3"
  },
  "language_info": {
   "codemirror_mode": {
    "name": "ipython",
    "version": 3
   },
   "file_extension": ".py",
   "mimetype": "text/x-python",
   "name": "python",
   "nbconvert_exporter": "python",
   "pygments_lexer": "ipython3",
   "version": "3.8.3"
  }
 },
 "nbformat": 4,
 "nbformat_minor": 4
}
