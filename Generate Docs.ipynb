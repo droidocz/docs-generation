{
 "cells": [
  {
   "cell_type": "markdown",
   "metadata": {},
   "source": [
    "# Generate Docs"
   ]
  },
  {
   "cell_type": "markdown",
   "metadata": {},
   "source": [
    "## Imports and definitions"
   ]
  },
  {
   "cell_type": "code",
   "execution_count": 1,
   "metadata": {},
   "outputs": [
    {
     "name": "stderr",
     "output_type": "stream",
     "text": [
      "[nltk_data] Downloading package stopwords to\n",
      "[nltk_data]     /Users/gabriel.dutradias/nltk_data...\n",
      "[nltk_data]   Package stopwords is already up-to-date!\n",
      "[nltk_data] Downloading package vader_lexicon to\n",
      "[nltk_data]     /Users/gabriel.dutradias/nltk_data...\n",
      "[nltk_data]   Package vader_lexicon is already up-to-date!\n"
     ]
    }
   ],
   "source": [
    "import statistics\n",
    "import pandas as pd\n",
    "import numpy as np\n",
    "from sklearn.preprocessing import MinMaxScaler\n",
    "from utils import create_folder, cleanup_folder, human_to_kebab_case\n",
    "from comment_classifier.utils import preprocess_comment\n",
    "from comment_classifier.sentence_scorer import SentenceScorer\n",
    "from doc_page import TagDocPage, PostQuestionDocPage\n",
    "import joblib"
   ]
  },
  {
   "cell_type": "code",
   "execution_count": 2,
   "metadata": {},
   "outputs": [],
   "source": [
    "output_dir = 'output'\n",
    "n_questions_per_tag = 10\n",
    "redundant_tags = ['android']"
   ]
  },
  {
   "cell_type": "markdown",
   "metadata": {},
   "source": [
    "## Create DataFrames"
   ]
  },
  {
   "cell_type": "code",
   "execution_count": 3,
   "metadata": {},
   "outputs": [],
   "source": [
    "comments_df = pd.read_csv('data/comments.csv')\n",
    "posts_questions_df = pd.read_csv('data/posts_questions.csv').drop_duplicates(subset=['id'])\n",
    "posts_answers_df = pd.read_csv('data/posts_answers.csv')\n",
    "posts_tag_wiki_df = pd.read_csv('data/posts_tag_wiki.csv')\n",
    "posts_tag_wiki_excerpt_df = pd.read_csv('data/posts_tag_wiki_excerpt.csv')\n",
    "selected_tags_df = pd.read_csv('data/selected_tags.csv')\n",
    "tags_df = pd.read_csv('data/tags.csv')\n",
    "users_df = pd.read_csv('data/users.csv')"
   ]
  },
  {
   "cell_type": "markdown",
   "metadata": {},
   "source": [
    "## Development"
   ]
  },
  {
   "cell_type": "code",
   "execution_count": 4,
   "metadata": {
    "scrolled": false
   },
   "outputs": [
    {
     "data": {
      "text/plain": [
       "['still debat whether add default imag',\n",
       " 'realli wish googl would specifi amp guid sinc webmast tool continu treat miss imag issu type info invalid structur data element forev clog review actual error space',\n",
       " 'frustrat old post never go back fix new post without meaning imag ?']"
      ]
     },
     "execution_count": 4,
     "metadata": {},
     "output_type": "execute_result"
    }
   ],
   "source": [
    "preprocess_comment('''Still debating whether to add a default image or not. Really wish Google would specify this in their AMP guides, since the Webmaster Tools will continue treating these missing images as \"issues\" of type \"Info: Invalid structured data element\" forever, clogging up my review of actual errors in that space. Frustrating for old posts (that I will never go back and fix) and new posts without any meaningful image?''')"
   ]
  },
  {
   "cell_type": "code",
   "execution_count": 5,
   "metadata": {
    "scrolled": true
   },
   "outputs": [
    {
     "data": {
      "text/plain": [
       "['seem perform action belong menu item <CODE> cau menu item appear select ?']"
      ]
     },
     "execution_count": 5,
     "metadata": {},
     "output_type": "execute_result"
    }
   ],
   "source": [
    "preprocess_comment(\"seem perform action belong menu item <CODE> caus menu item appear select?\")"
   ]
  },
  {
   "cell_type": "code",
   "execution_count": null,
   "metadata": {},
   "outputs": [],
   "source": []
  },
  {
   "cell_type": "code",
   "execution_count": 6,
   "metadata": {
    "scrolled": true
   },
   "outputs": [
    {
     "data": {
      "text/html": [
       "<div>\n",
       "<style scoped>\n",
       "    .dataframe tbody tr th:only-of-type {\n",
       "        vertical-align: middle;\n",
       "    }\n",
       "\n",
       "    .dataframe tbody tr th {\n",
       "        vertical-align: top;\n",
       "    }\n",
       "\n",
       "    .dataframe thead th {\n",
       "        text-align: right;\n",
       "    }\n",
       "</style>\n",
       "<table border=\"1\" class=\"dataframe\">\n",
       "  <thead>\n",
       "    <tr style=\"text-align: right;\">\n",
       "      <th></th>\n",
       "      <th>id</th>\n",
       "      <th>text</th>\n",
       "      <th>creation_date</th>\n",
       "      <th>post_id</th>\n",
       "      <th>user_id</th>\n",
       "      <th>user_display_name</th>\n",
       "      <th>score</th>\n",
       "    </tr>\n",
       "  </thead>\n",
       "  <tbody>\n",
       "    <tr>\n",
       "      <th>717</th>\n",
       "      <td>55490286</td>\n",
       "      <td>\"Dont worry about sending app to background in...</td>\n",
       "      <td>2015-11-23T02:44:38.827Z</td>\n",
       "      <td>1982992</td>\n",
       "      <td>2553372.0</td>\n",
       "      <td>NaN</td>\n",
       "      <td>0</td>\n",
       "    </tr>\n",
       "    <tr>\n",
       "      <th>11498</th>\n",
       "      <td>72340349</td>\n",
       "      <td>Better to use activity flags than put things i...</td>\n",
       "      <td>2017-03-05T06:17:08.257Z</td>\n",
       "      <td>42111344</td>\n",
       "      <td>4508063.0</td>\n",
       "      <td>NaN</td>\n",
       "      <td>2</td>\n",
       "    </tr>\n",
       "    <tr>\n",
       "      <th>4874</th>\n",
       "      <td>26049298</td>\n",
       "      <td>This is excellent !! I wanted to launch as man...</td>\n",
       "      <td>2013-07-24T21:06:40.820Z</td>\n",
       "      <td>11038348</td>\n",
       "      <td>757243.0</td>\n",
       "      <td>NaN</td>\n",
       "      <td>0</td>\n",
       "    </tr>\n",
       "    <tr>\n",
       "      <th>5382</th>\n",
       "      <td>42463224</td>\n",
       "      <td>Manuel, We have winning answer!</td>\n",
       "      <td>2014-11-16T22:06:53.480Z</td>\n",
       "      <td>21500570</td>\n",
       "      <td>1180310.0</td>\n",
       "      <td>NaN</td>\n",
       "      <td>0</td>\n",
       "    </tr>\n",
       "    <tr>\n",
       "      <th>4625</th>\n",
       "      <td>120726616</td>\n",
       "      <td>For Accessibility is there a way to announce t...</td>\n",
       "      <td>2021-07-08T22:13:42.663Z</td>\n",
       "      <td>31254146</td>\n",
       "      <td>5442882.0</td>\n",
       "      <td>NaN</td>\n",
       "      <td>0</td>\n",
       "    </tr>\n",
       "  </tbody>\n",
       "</table>\n",
       "</div>"
      ],
      "text/plain": [
       "              id                                               text  \\\n",
       "717     55490286  \"Dont worry about sending app to background in...   \n",
       "11498   72340349  Better to use activity flags than put things i...   \n",
       "4874    26049298  This is excellent !! I wanted to launch as man...   \n",
       "5382    42463224                    Manuel, We have winning answer!   \n",
       "4625   120726616  For Accessibility is there a way to announce t...   \n",
       "\n",
       "                  creation_date   post_id    user_id user_display_name  score  \n",
       "717    2015-11-23T02:44:38.827Z   1982992  2553372.0               NaN      0  \n",
       "11498  2017-03-05T06:17:08.257Z  42111344  4508063.0               NaN      2  \n",
       "4874   2013-07-24T21:06:40.820Z  11038348   757243.0               NaN      0  \n",
       "5382   2014-11-16T22:06:53.480Z  21500570  1180310.0               NaN      0  \n",
       "4625   2021-07-08T22:13:42.663Z  31254146  5442882.0               NaN      0  "
      ]
     },
     "execution_count": 6,
     "metadata": {},
     "output_type": "execute_result"
    }
   ],
   "source": [
    "comments_df.sample(5)"
   ]
  },
  {
   "cell_type": "markdown",
   "metadata": {},
   "source": [
    "### Evaluation functions"
   ]
  },
  {
   "cell_type": "code",
   "execution_count": 7,
   "metadata": {},
   "outputs": [],
   "source": [
    "# pre-compute important values for evaluation\n",
    "\n",
    "# add user reputation to post answers\n",
    "posts_answers_with_user_df = pd.merge(left=posts_answers_df, right=users_df[['reputation', 'id']].add_prefix('user_'), left_on='owner_user_id', right_on='user_id')\n",
    "\n",
    "# scale values\n",
    "scaler = MinMaxScaler()\n",
    "posts_questions_df[['scaled_view_count', 'scaled_score']] = scaler.fit_transform(posts_questions_df[['view_count', 'score']])\n",
    "posts_answers_with_user_df[['scaled_score', 'scaled_user_reputation']] = scaler.fit_transform(posts_answers_with_user_df[['score', 'user_reputation']])"
   ]
  },
  {
   "cell_type": "code",
   "execution_count": 8,
   "metadata": {},
   "outputs": [],
   "source": [
    "def eval_answer(answer_row):\n",
    "    return statistics.mean([answer_row.scaled_score, answer_row.scaled_user_reputation])\n",
    "\n",
    "posts_answers_with_user_df['eval'] = posts_answers_with_user_df.apply(eval_answer, axis=1)\n",
    "\n",
    "def eval_question(question_row):\n",
    "    answer_row = posts_answers_with_user_df.loc[posts_answers_with_user_df.parent_id == question_row.id].sort_values(by='eval', ascending=False).iloc[0]\n",
    "    return statistics.mean([question_row.scaled_view_count, question_row.scaled_score, answer_row.scaled_score, answer_row.scaled_user_reputation])\n",
    "\n",
    "posts_questions_df['eval'] = posts_questions_df.apply(eval_question, axis=1)"
   ]
  },
  {
   "cell_type": "markdown",
   "metadata": {},
   "source": [
    "### Prepare files and variables"
   ]
  },
  {
   "cell_type": "code",
   "execution_count": 9,
   "metadata": {},
   "outputs": [],
   "source": [
    "cleanup_folder(output_dir)\n",
    "questions_for_docs = []"
   ]
  },
  {
   "cell_type": "markdown",
   "metadata": {},
   "source": [
    "### Generate docs for tags\n",
    "\n",
    "Docs for tags are based on the `posts_tag_wiki` table from Stackoverflow. Content should be a long description for what each tag represents as well as pointing out relevant complementary docs."
   ]
  },
  {
   "cell_type": "code",
   "execution_count": 10,
   "metadata": {},
   "outputs": [],
   "source": [
    "for idx, row in selected_tags_df.iterrows():\n",
    "    tag_id = row.id\n",
    "    tag_name = row.tag_name\n",
    "    tag_description = posts_tag_wiki_excerpt_df.loc[posts_tag_wiki_excerpt_df.id == row.excerpt_post_id]['body'].values[0]\n",
    "    tag_wiki_body = posts_tag_wiki_df.loc[posts_tag_wiki_df.id == row.wiki_post_id]['body'].values[0]\n",
    "    # save tag doc page\n",
    "    TagDocPage(tag_name, tag_description, tag_wiki_body).save(f\"{output_dir}/{tag_name}.md\")\n",
    "\n",
    "    # prepare post questions for tag\n",
    "    create_folder(f\"{output_dir}/{tag_name}\")\n",
    "    tag_questions_df = posts_questions_df[posts_questions_df.tag_id == tag_id].copy()\n",
    "    selected_questions_df = tag_questions_df.sort_values(by='eval', ascending=False).head(n_questions_per_tag)\n",
    "    questions_for_docs.append(selected_questions_df)"
   ]
  },
  {
   "cell_type": "markdown",
   "metadata": {},
   "source": [
    "### Generate docs for questions"
   ]
  },
  {
   "cell_type": "code",
   "execution_count": 11,
   "metadata": {},
   "outputs": [],
   "source": [
    "questions_for_docs_df = pd.concat(questions_for_docs)\n",
    "\n",
    "for idx, row in questions_for_docs_df.iterrows():\n",
    "    parent_tag_name = row.tag_name\n",
    "    question_title = row.title\n",
    "    question_body = row.body\n",
    "    question_tags = [tag for tag in row.tags.split('|') if tag not in redundant_tags and tag != row.tag_name]\n",
    "    \n",
    "    # select answer\n",
    "    question_answers_df = posts_answers_with_user_df[posts_answers_with_user_df.parent_id == row.id].copy()\n",
    "    selected_answer = question_answers_df.sort_values(by='eval', ascending=False).iloc[0]\n",
    "    comments = list(comments_df[comments_df.post_id == selected_answer.id].sort_values(by='score', ascending=False)['text'])\n",
    "    answer_body = selected_answer.body\n",
    "\n",
    "    # save post question doc page\n",
    "    output_file_name = human_to_kebab_case(question_title)\n",
    "    PostQuestionDocPage(question_title, question_body, question_tags, answer_body, comments).save(f\"{output_dir}/{parent_tag_name}/{output_file_name}.md\")"
   ]
  },
  {
   "cell_type": "raw",
   "metadata": {},
   "source": []
  }
 ],
 "metadata": {
  "kernelspec": {
   "display_name": "Python 3",
   "language": "python",
   "name": "python3"
  },
  "language_info": {
   "codemirror_mode": {
    "name": "ipython",
    "version": 3
   },
   "file_extension": ".py",
   "mimetype": "text/x-python",
   "name": "python",
   "nbconvert_exporter": "python",
   "pygments_lexer": "ipython3",
   "version": "3.8.3"
  }
 },
 "nbformat": 4,
 "nbformat_minor": 4
}
