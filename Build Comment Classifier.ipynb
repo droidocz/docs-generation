{
 "cells": [
  {
   "cell_type": "markdown",
   "metadata": {},
   "source": [
    "# Build Comment Classifier\n",
    "\n",
    "This notebook is to build the Stackoverflow comment classifier and output:\n",
    "- `sentence_scorer.pkl` -> `SentenceScorer` to score a given list of processed comment text\n",
    "- `comment_classifier.pkl` -> `BalancedRandomForestClassifier` Classifier model to predict whether comment is useful or not"
   ]
  },
  {
   "cell_type": "markdown",
   "metadata": {},
   "source": [
    "## Imports and definitions"
   ]
  },
  {
   "cell_type": "code",
   "execution_count": 1,
   "metadata": {},
   "outputs": [],
   "source": [
    "import pandas as pd\n",
    "import numpy as np\n",
    "import matplotlib.pyplot as plt\n",
    "from statistics import mean\n",
    "\n",
    "from comment_classifier.sentence_scorer import SentenceScorer\n",
    "from imblearn.ensemble import BalancedRandomForestClassifier\n",
    "from sklearn.feature_extraction.text import CountVectorizer, TfidfTransformer, TfidfVectorizer\n",
    "from sklearn.model_selection import StratifiedShuffleSplit\n",
    "from sklearn.metrics import f1_score,accuracy_score,precision_score,recall_score,roc_auc_score,plot_confusion_matrix\n",
    "import joblib"
   ]
  },
  {
   "cell_type": "code",
   "execution_count": 2,
   "metadata": {},
   "outputs": [],
   "source": [
    "comments_model_input_df = pd.read_csv('data/classifier/comments_model_input.csv')"
   ]
  },
  {
   "cell_type": "markdown",
   "metadata": {},
   "source": [
    "## Development"
   ]
  },
  {
   "cell_type": "markdown",
   "metadata": {},
   "source": [
    "### Description\n",
    "\n",
    "Pre-processing comment (`comment_classifier/utils`):\n",
    "- Replace URLs, mentions and code\n",
    "- Remove stopwords\n",
    "- Remove special characters, except '?'\n",
    "- Tokenize and apply stemming\n",
    "\n",
    "\n",
    "\n",
    "Two-level Random forest classifier\n",
    "1. **SentenceScorer**: Tf-idf of each word in sentence, generating a text score with the classifier probability prediction\n",
    "2. **Comment classifier**: Uses the Sentence Score (first classifier), Sentence length and NLTK Text Sentiment to predict useful/not useful\n",
    "    - Note: Using 3 main features from the model as described in page 20 of \"Are comments on Stack Overflow well organized for easy retrieval by developers?\" paper"
   ]
  },
  {
   "cell_type": "markdown",
   "metadata": {},
   "source": [
    "### First level: SentenceScorer"
   ]
  },
  {
   "cell_type": "code",
   "execution_count": 3,
   "metadata": {},
   "outputs": [
    {
     "data": {
      "text/plain": [
       "<generator object BaseShuffleSplit.split at 0x7f9a6083b190>"
      ]
     },
     "execution_count": 3,
     "metadata": {},
     "output_type": "execute_result"
    }
   ],
   "source": [
    "filtered_data_df = comments_model_input_df[comments_model_input_df['CommentTextProc'].notnull()]\n",
    "\n",
    "sss_half = StratifiedShuffleSplit(n_splits=1, test_size=0.5)\n",
    "X = filtered_data_df[['CommentTextProc','CommentTextLen','Sentiment']]\n",
    "y = np.array(filtered_data_df['IsUsefulSum'])\n",
    "\n",
    "sss_half.split(X, y)"
   ]
  },
  {
   "cell_type": "code",
   "execution_count": 4,
   "metadata": {},
   "outputs": [
    {
     "name": "stdout",
     "output_type": "stream",
     "text": [
      "F1 Score for Balanced Random Forest Classifier is  0.8078431372549019\n",
      "F1 Score for Balanced Random Forest Classifier is  0.7905138339920948\n",
      "F1 Score for Balanced Random Forest Classifier is  0.8314606741573034\n",
      "F1 Score for Balanced Random Forest Classifier is  0.8313725490196079\n",
      "F1 Score for Balanced Random Forest Classifier is  0.7968127490039841\n",
      "\n",
      "\n",
      "F1 Score: 0.8314606741573034\n",
      "Accuracy: 0.7540983606557377\n",
      "Precision: 0.9098360655737705\n",
      "Recall: 0.7655172413793103\n",
      "AUC: 0.738021778584392\n"
     ]
    }
   ],
   "source": [
    "filtered_data_df = comments_model_input_df[comments_model_input_df['CommentTextProc'].notnull()]\n",
    "sss = StratifiedShuffleSplit(n_splits=5, test_size=0.3)\n",
    "sss_half = StratifiedShuffleSplit(n_splits=1, test_size=0.5)\n",
    "\n",
    "X_base = filtered_data_df[['CommentTextProc','CommentTextLen','Sentiment']]\n",
    "y_base = np.array(filtered_data_df['IsUsefulSum'])\n",
    "\n",
    "current_f1_score = 0\n",
    "for first_half_index, second_half_index in sss_half.split(X, y):\n",
    "    X, y = X_base.iloc[first_half_index], y[first_half_index]\n",
    "    for train_index, test_index in StratifiedShuffleSplit(n_splits=5, test_size=0.1).split(X, y):\n",
    "        X_train, X_test = X.iloc[train_index], X.iloc[test_index]\n",
    "        y_train, y_test = y[train_index], y[test_index]\n",
    "\n",
    "        tf_idf = TfidfVectorizer()\n",
    "        X_train_tf = tf_idf.fit_transform(X_train['CommentTextProc'])\n",
    "        X_test_tf = tf_idf.transform(X_test['CommentTextProc'])\n",
    "\n",
    "        brfc = BalancedRandomForestClassifier().fit(X_train_tf, y_train)\n",
    "        scored_f1_score = f1_score(y_test,brfc.predict(X_test_tf))\n",
    "        print(\"F1 Score for Balanced Random Forest Classifier is \", scored_f1_score)\n",
    "\n",
    "        if scored_f1_score > current_f1_score:\n",
    "            current_tf_idf = tf_idf\n",
    "            current_f1_score = scored_f1_score\n",
    "            current_model = brfc\n",
    "            X_two, y_two = X_base.iloc[second_half_index], y_base[second_half_index]\n",
    "            current_y_test = y_test\n",
    "            current_X_train_tf = X_train_tf\n",
    "            current_X_test_tf = X_test_tf\n",
    "            current_y_train = y_test\n",
    "        \n",
    "y_predict = current_model.predict(current_X_test_tf)\n",
    "print(f\"\\n\\nF1 Score: {current_f1_score}\")\n",
    "print(f\"Accuracy: {accuracy_score(current_y_test, y_predict)}\")\n",
    "print(f\"Precision: {precision_score(current_y_test, y_predict)}\")\n",
    "print(f\"Recall: {recall_score(current_y_test, y_predict)}\")\n",
    "print(f\"AUC: {roc_auc_score(current_y_test, y_predict)}\")"
   ]
  },
  {
   "cell_type": "code",
   "execution_count": 5,
   "metadata": {
    "scrolled": false
   },
   "outputs": [
    {
     "name": "stderr",
     "output_type": "stream",
     "text": [
      "/Library/Frameworks/Python.framework/Versions/3.8/lib/python3.8/site-packages/sklearn/utils/deprecation.py:87: FutureWarning: Function plot_confusion_matrix is deprecated; Function `plot_confusion_matrix` is deprecated in 1.0 and will be removed in 1.2. Use one of the class methods: ConfusionMatrixDisplay.from_predictions or ConfusionMatrixDisplay.from_estimator.\n",
      "  warnings.warn(msg, category=FutureWarning)\n"
     ]
    },
    {
     "data": {
      "image/png": "[encoded data removed]",
      "text/plain": [
       "<Figure size 432x288 with 2 Axes>"
      ]
     },
     "metadata": {
      "needs_background": "light"
     },
     "output_type": "display_data"
    }
   ],
   "source": [
    "fig=plot_confusion_matrix(current_model, current_X_test_tf, current_y_test)\n",
    "plt.show()"
   ]
  },
  {
   "cell_type": "markdown",
   "metadata": {},
   "source": [
    "### Second level: Comment classifier"
   ]
  },
  {
   "cell_type": "code",
   "execution_count": 6,
   "metadata": {},
   "outputs": [],
   "source": [
    "sentence_scorer = SentenceScorer(tf_idf_vectorizer=current_tf_idf, score_classifier_model=current_model)"
   ]
  },
  {
   "cell_type": "code",
   "execution_count": 7,
   "metadata": {},
   "outputs": [
    {
     "name": "stderr",
     "output_type": "stream",
     "text": [
      "<ipython-input-7-e1c77b292300>:12: SettingWithCopyWarning: \n",
      "A value is trying to be set on a copy of a slice from a DataFrame.\n",
      "Try using .loc[row_indexer,col_indexer] = value instead\n",
      "\n",
      "See the caveats in the documentation: https://pandas.pydata.org/pandas-docs/stable/user_guide/indexing.html#returning-a-view-versus-a-copy\n",
      "  X_train_two['TextScore'] = sentence_scorer.get_scores(X_train_two['CommentTextProc'])\n",
      "<ipython-input-7-e1c77b292300>:13: SettingWithCopyWarning: \n",
      "A value is trying to be set on a copy of a slice from a DataFrame.\n",
      "Try using .loc[row_indexer,col_indexer] = value instead\n",
      "\n",
      "See the caveats in the documentation: https://pandas.pydata.org/pandas-docs/stable/user_guide/indexing.html#returning-a-view-versus-a-copy\n",
      "  X_test_two['TextScore'] = sentence_scorer.get_scores(X_test_two['CommentTextProc'])\n",
      "<ipython-input-7-e1c77b292300>:12: SettingWithCopyWarning: \n",
      "A value is trying to be set on a copy of a slice from a DataFrame.\n",
      "Try using .loc[row_indexer,col_indexer] = value instead\n",
      "\n",
      "See the caveats in the documentation: https://pandas.pydata.org/pandas-docs/stable/user_guide/indexing.html#returning-a-view-versus-a-copy\n",
      "  X_train_two['TextScore'] = sentence_scorer.get_scores(X_train_two['CommentTextProc'])\n",
      "<ipython-input-7-e1c77b292300>:13: SettingWithCopyWarning: \n",
      "A value is trying to be set on a copy of a slice from a DataFrame.\n",
      "Try using .loc[row_indexer,col_indexer] = value instead\n",
      "\n",
      "See the caveats in the documentation: https://pandas.pydata.org/pandas-docs/stable/user_guide/indexing.html#returning-a-view-versus-a-copy\n",
      "  X_test_two['TextScore'] = sentence_scorer.get_scores(X_test_two['CommentTextProc'])\n",
      "<ipython-input-7-e1c77b292300>:12: SettingWithCopyWarning: \n",
      "A value is trying to be set on a copy of a slice from a DataFrame.\n",
      "Try using .loc[row_indexer,col_indexer] = value instead\n",
      "\n",
      "See the caveats in the documentation: https://pandas.pydata.org/pandas-docs/stable/user_guide/indexing.html#returning-a-view-versus-a-copy\n",
      "  X_train_two['TextScore'] = sentence_scorer.get_scores(X_train_two['CommentTextProc'])\n",
      "<ipython-input-7-e1c77b292300>:13: SettingWithCopyWarning: \n",
      "A value is trying to be set on a copy of a slice from a DataFrame.\n",
      "Try using .loc[row_indexer,col_indexer] = value instead\n",
      "\n",
      "See the caveats in the documentation: https://pandas.pydata.org/pandas-docs/stable/user_guide/indexing.html#returning-a-view-versus-a-copy\n",
      "  X_test_two['TextScore'] = sentence_scorer.get_scores(X_test_two['CommentTextProc'])\n",
      "<ipython-input-7-e1c77b292300>:12: SettingWithCopyWarning: \n",
      "A value is trying to be set on a copy of a slice from a DataFrame.\n",
      "Try using .loc[row_indexer,col_indexer] = value instead\n",
      "\n",
      "See the caveats in the documentation: https://pandas.pydata.org/pandas-docs/stable/user_guide/indexing.html#returning-a-view-versus-a-copy\n",
      "  X_train_two['TextScore'] = sentence_scorer.get_scores(X_train_two['CommentTextProc'])\n",
      "<ipython-input-7-e1c77b292300>:13: SettingWithCopyWarning: \n",
      "A value is trying to be set on a copy of a slice from a DataFrame.\n",
      "Try using .loc[row_indexer,col_indexer] = value instead\n",
      "\n",
      "See the caveats in the documentation: https://pandas.pydata.org/pandas-docs/stable/user_guide/indexing.html#returning-a-view-versus-a-copy\n",
      "  X_test_two['TextScore'] = sentence_scorer.get_scores(X_test_two['CommentTextProc'])\n",
      "<ipython-input-7-e1c77b292300>:12: SettingWithCopyWarning: \n",
      "A value is trying to be set on a copy of a slice from a DataFrame.\n",
      "Try using .loc[row_indexer,col_indexer] = value instead\n",
      "\n",
      "See the caveats in the documentation: https://pandas.pydata.org/pandas-docs/stable/user_guide/indexing.html#returning-a-view-versus-a-copy\n",
      "  X_train_two['TextScore'] = sentence_scorer.get_scores(X_train_two['CommentTextProc'])\n",
      "<ipython-input-7-e1c77b292300>:13: SettingWithCopyWarning: \n",
      "A value is trying to be set on a copy of a slice from a DataFrame.\n",
      "Try using .loc[row_indexer,col_indexer] = value instead\n",
      "\n",
      "See the caveats in the documentation: https://pandas.pydata.org/pandas-docs/stable/user_guide/indexing.html#returning-a-view-versus-a-copy\n",
      "  X_test_two['TextScore'] = sentence_scorer.get_scores(X_test_two['CommentTextProc'])\n"
     ]
    },
    {
     "name": "stdout",
     "output_type": "stream",
     "text": [
      "\n",
      "\n",
      "Accuracy: 0.8\n",
      "Precision: 0.94\n",
      "Recall: 0.8\n",
      "F1 Score: 0.86\n",
      "AUC: 0.8\n"
     ]
    }
   ],
   "source": [
    "features = ['TextScore', 'Sentiment', 'CommentTextLen']\n",
    "\n",
    "f1_scores = []\n",
    "accuracy_scores = []\n",
    "precision_scores = []\n",
    "recall_scores = []\n",
    "auc_scores = []\n",
    "\n",
    "for train_index, test_index in sss.split(X, y):\n",
    "    X_train_two, X_test_two = X_two.iloc[train_index], X_two.iloc[test_index]\n",
    "    y_train_two, y_test_two = y_two[train_index], y_two[test_index]\n",
    "    X_train_two['TextScore'] = sentence_scorer.get_scores(X_train_two['CommentTextProc'])\n",
    "    X_test_two['TextScore'] = sentence_scorer.get_scores(X_test_two['CommentTextProc'])\n",
    "\n",
    "    brfc = BalancedRandomForestClassifier().fit(X_train_two[features], y_train_two)\n",
    "\n",
    "    y_predict = brfc.predict(X_test_two[features])\n",
    "\n",
    "    accuracy_scores.append(accuracy_score(y_test_two, y_predict))\n",
    "    precision_scores.append(precision_score(y_test_two, y_predict))\n",
    "    recall_scores.append(recall_score(y_test_two, y_predict))\n",
    "    f1_scores.append(f1_score(y_test_two,y_predict))\n",
    "    auc_scores.append(roc_auc_score(y_test_two,y_predict))\n",
    "    \n",
    "\n",
    "print(f\"\\n\\nAccuracy: {round(mean(accuracy_scores), 2)}\")\n",
    "print(f\"Precision: {round(mean(precision_scores), 2)}\")\n",
    "print(f\"Recall: {round(mean(recall_scores), 2)}\")\n",
    "print(f\"F1 Score: {round(mean(f1_scores), 2)}\")\n",
    "print(f\"AUC: {round(mean(auc_scores), 2)}\")"
   ]
  },
  {
   "cell_type": "code",
   "execution_count": 8,
   "metadata": {},
   "outputs": [
    {
     "name": "stderr",
     "output_type": "stream",
     "text": [
      "/Library/Frameworks/Python.framework/Versions/3.8/lib/python3.8/site-packages/sklearn/utils/deprecation.py:87: FutureWarning: Function plot_confusion_matrix is deprecated; Function `plot_confusion_matrix` is deprecated in 1.0 and will be removed in 1.2. Use one of the class methods: ConfusionMatrixDisplay.from_predictions or ConfusionMatrixDisplay.from_estimator.\n",
      "  warnings.warn(msg, category=FutureWarning)\n"
     ]
    },
    {
     "data": {
      "image/png": "[encoded data removed]",
      "text/plain": [
       "<Figure size 432x288 with 2 Axes>"
      ]
     },
     "metadata": {
      "needs_background": "light"
     },
     "output_type": "display_data"
    }
   ],
   "source": [
    "fig=plot_confusion_matrix(brfc, X_test_two[features], y_test_two)\n",
    "plt.show()"
   ]
  },
  {
   "cell_type": "markdown",
   "metadata": {},
   "source": [
    "### Save scorer and classifier"
   ]
  },
  {
   "cell_type": "code",
   "execution_count": 9,
   "metadata": {},
   "outputs": [
    {
     "data": {
      "text/plain": [
       "['comment_classifier.pkl']"
      ]
     },
     "execution_count": 9,
     "metadata": {},
     "output_type": "execute_result"
    }
   ],
   "source": [
    "joblib.dump(sentence_scorer, 'sentence_scorer.pkl', compress=9)\n",
    "joblib.dump(brfc, 'comment_classifier.pkl', compress=9)"
   ]
  },
  {
   "cell_type": "code",
   "execution_count": null,
   "metadata": {},
   "outputs": [],
   "source": []
  }
 ],
 "metadata": {
  "kernelspec": {
   "display_name": "Python 3",
   "language": "python",
   "name": "python3"
  },
  "language_info": {
   "codemirror_mode": {
    "name": "ipython",
    "version": 3
   },
   "file_extension": ".py",
   "mimetype": "text/x-python",
   "name": "python",
   "nbconvert_exporter": "python",
   "pygments_lexer": "ipython3",
   "version": "3.8.3"
  }
 },
 "nbformat": 4,
 "nbformat_minor": 4
}
