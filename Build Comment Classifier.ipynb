{
 "cells": [
  {
   "cell_type": "markdown",
   "metadata": {},
   "source": [
    "# Build Comment Classifier\n",
    "\n",
    "This notebook is to build the Stackoverflow comment classifier and output:\n",
    "- `sentence_scorer.pkl` -> `SentenceScorer` to score a given list of processed comment text\n",
    "- `comment_classifier.pkl` -> `BalancedRandomForestClassifier` Classifier model to predict whether comment is useful or not"
   ]
  },
  {
   "cell_type": "markdown",
   "metadata": {},
   "source": [
    "## Imports and definitions"
   ]
  },
  {
   "cell_type": "code",
   "execution_count": 1,
   "metadata": {},
   "outputs": [],
   "source": [
    "import pandas as pd\n",
    "import numpy as np\n",
    "import matplotlib.pyplot as plt\n",
    "from comment_classifier.sentence_scorer import SentenceScorer\n",
    "from imblearn.ensemble import BalancedRandomForestClassifier\n",
    "from sklearn.feature_extraction.text import CountVectorizer, TfidfTransformer, TfidfVectorizer\n",
    "from sklearn.model_selection import StratifiedShuffleSplit\n",
    "from sklearn.metrics import f1_score,accuracy_score,precision_score,recall_score,plot_confusion_matrix\n",
    "import joblib"
   ]
  },
  {
   "cell_type": "code",
   "execution_count": 2,
   "metadata": {},
   "outputs": [],
   "source": [
    "comments_model_input_df = pd.read_csv('data/classifier/comments_model_input.csv')"
   ]
  },
  {
   "cell_type": "markdown",
   "metadata": {},
   "source": [
    "## Development"
   ]
  },
  {
   "cell_type": "markdown",
   "metadata": {},
   "source": [
    "### Description\n",
    "\n",
    "Pre-processing comment (`comment_classifier/utils`):\n",
    "- Replace URLs, mentions and code\n",
    "- Remove stopwords\n",
    "- Remove special characters, except '?'\n",
    "- Tokenize and apply stemming\n",
    "\n",
    "\n",
    "\n",
    "Two-level Random forest classifier\n",
    "1. **SentenceScorer**: Tf-idf of each word in sentence, generating a text score with the classifier probability prediction\n",
    "2. **Comment classifier**: Uses the Sentence Score (first classifier), Sentence length and NLTK Text Sentiment to predict useful/not useful\n",
    "    - Note: Using 3 main features from the model as described in page 20 of \"Are comments on Stack Overflow well organized for easy retrieval by developers?\" paper"
   ]
  },
  {
   "cell_type": "markdown",
   "metadata": {},
   "source": [
    "### First level: SentenceScorer"
   ]
  },
  {
   "cell_type": "code",
   "execution_count": 3,
   "metadata": {},
   "outputs": [
    {
     "name": "stdout",
     "output_type": "stream",
     "text": [
      "F1 Score for Balanced Random Forest Classifier is  0.8239905919247356\n",
      "F1 Score for Balanced Random Forest Classifier is  0.8356374807987711\n",
      "F1 Score for Balanced Random Forest Classifier is  0.8283294842186297\n",
      "F1 Score for Balanced Random Forest Classifier is  0.8281972265023113\n",
      "F1 Score for Balanced Random Forest Classifier is  0.8162460567823343\n",
      "\n",
      "\n",
      "F1 Score: 0.8356374807987711\n",
      "Accuracy: 0.7654794520547945\n",
      "Precision: 0.941991341991342\n",
      "Recall: 0.7508626639061422\n"
     ]
    }
   ],
   "source": [
    "filtered_data_df = comments_model_input_df[comments_model_input_df['CommentTextProc'].notnull()]\n",
    "sss = StratifiedShuffleSplit(n_splits=5, test_size=0.5)\n",
    "\n",
    "X = filtered_data_df[['CommentTextProc','CommentTextLen','Sentiment']]\n",
    "y = np.array(filtered_data_df['IsUsefulSum'])\n",
    "\n",
    "current_f1_score = 0\n",
    "\n",
    "for train_index, test_index in sss.split(X, y):\n",
    "    X_train, X_test = X.iloc[train_index], X.iloc[test_index]\n",
    "    y_train, y_test = y[train_index], y[test_index]\n",
    "\n",
    "    tf_idf = TfidfVectorizer()\n",
    "    X_train_tf = tf_idf.fit_transform(X_train['CommentTextProc'])\n",
    "    X_test_tf = tf_idf.transform(X_test['CommentTextProc'])\n",
    "    \n",
    "    brfc = BalancedRandomForestClassifier().fit(X_train_tf, y_train)\n",
    "    scored_f1_score = f1_score(y_test,brfc.predict(X_test_tf))\n",
    "    print(\"F1 Score for Balanced Random Forest Classifier is \", scored_f1_score)\n",
    "\n",
    "    if scored_f1_score > current_f1_score:\n",
    "        current_tf_idf = tf_idf\n",
    "        current_f1_score = scored_f1_score\n",
    "        current_model = brfc\n",
    "        X_train_two, X_test_two = X_test, X_train\n",
    "        y_train_two, y_test_two = y_test, y_train\n",
    "        current_y_test = y_test\n",
    "        current_X_train_tf = X_train_tf\n",
    "        current_X_test_tf = X_test_tf\n",
    "        current_y_train = y_test\n",
    "        \n",
    "y_predict = current_model.predict(current_X_test_tf)\n",
    "print(f\"\\n\\nF1 Score: {current_f1_score}\")\n",
    "print(f\"Accuracy: {accuracy_score(current_y_test, y_predict)}\")\n",
    "print(f\"Precision: {precision_score(current_y_test, y_predict)}\")\n",
    "print(f\"Recall: {recall_score(current_y_test, y_predict)}\")"
   ]
  },
  {
   "cell_type": "code",
   "execution_count": 4,
   "metadata": {
    "scrolled": false
   },
   "outputs": [
    {
     "name": "stderr",
     "output_type": "stream",
     "text": [
      "/Library/Frameworks/Python.framework/Versions/3.8/lib/python3.8/site-packages/sklearn/utils/deprecation.py:87: FutureWarning: Function plot_confusion_matrix is deprecated; Function `plot_confusion_matrix` is deprecated in 1.0 and will be removed in 1.2. Use one of the class methods: ConfusionMatrixDisplay.from_predictions or ConfusionMatrixDisplay.from_estimator.\n",
      "  warnings.warn(msg, category=FutureWarning)\n"
     ]
    },
    {
     "data": {
      "image/png": "[encoded data removed]",
      "text/plain": [
       "<Figure size 432x288 with 2 Axes>"
      ]
     },
     "metadata": {
      "needs_background": "light"
     },
     "output_type": "display_data"
    }
   ],
   "source": [
    "fig=plot_confusion_matrix(current_model, current_X_test_tf, current_y_test)\n",
    "plt.show()"
   ]
  },
  {
   "cell_type": "markdown",
   "metadata": {},
   "source": [
    "### Second level: Comment classifier"
   ]
  },
  {
   "cell_type": "code",
   "execution_count": 5,
   "metadata": {},
   "outputs": [
    {
     "name": "stderr",
     "output_type": "stream",
     "text": [
      "<ipython-input-5-358b98743c07>:3: SettingWithCopyWarning: \n",
      "A value is trying to be set on a copy of a slice from a DataFrame.\n",
      "Try using .loc[row_indexer,col_indexer] = value instead\n",
      "\n",
      "See the caveats in the documentation: https://pandas.pydata.org/pandas-docs/stable/user_guide/indexing.html#returning-a-view-versus-a-copy\n",
      "  X_train_two['TextScore'] = sentence_scorer.get_scores(X_train_two['CommentTextProc'])\n",
      "<ipython-input-5-358b98743c07>:4: SettingWithCopyWarning: \n",
      "A value is trying to be set on a copy of a slice from a DataFrame.\n",
      "Try using .loc[row_indexer,col_indexer] = value instead\n",
      "\n",
      "See the caveats in the documentation: https://pandas.pydata.org/pandas-docs/stable/user_guide/indexing.html#returning-a-view-versus-a-copy\n",
      "  X_test_two['TextScore'] = sentence_scorer.get_scores(X_test_two['CommentTextProc'])\n"
     ]
    }
   ],
   "source": [
    "sentence_scorer = SentenceScorer(tf_idf_vectorizer=current_tf_idf, score_classifier_model=current_model)\n",
    "\n",
    "X_train_two['TextScore'] = sentence_scorer.get_scores(X_train_two['CommentTextProc'])\n",
    "X_test_two['TextScore'] = sentence_scorer.get_scores(X_test_two['CommentTextProc'])"
   ]
  },
  {
   "cell_type": "code",
   "execution_count": 6,
   "metadata": {},
   "outputs": [
    {
     "name": "stdout",
     "output_type": "stream",
     "text": [
      "\n",
      "\n",
      "F1 Score: 0.8962371721778791\n",
      "Accuracy: 0.8504109589041096\n",
      "Precision: 0.9974619289340102\n",
      "Recall: 0.8136645962732919\n"
     ]
    }
   ],
   "source": [
    "features = ['TextScore', 'Sentiment', 'CommentTextLen']\n",
    "brfc = BalancedRandomForestClassifier().fit(X_train_two[features], y_train_two)\n",
    "\n",
    "y_predict = brfc.predict(X_test_two[features])\n",
    "\n",
    "scored_f1_score = f1_score(y_test_two,y_predict)\n",
    "print(f\"\\n\\nF1 Score: {scored_f1_score}\")\n",
    "print(f\"Accuracy: {accuracy_score(y_test_two, y_predict)}\")\n",
    "print(f\"Precision: {precision_score(y_test_two, y_predict)}\")\n",
    "print(f\"Recall: {recall_score(y_test_two, y_predict)}\")"
   ]
  },
  {
   "cell_type": "code",
   "execution_count": 7,
   "metadata": {},
   "outputs": [
    {
     "name": "stderr",
     "output_type": "stream",
     "text": [
      "/Library/Frameworks/Python.framework/Versions/3.8/lib/python3.8/site-packages/sklearn/utils/deprecation.py:87: FutureWarning: Function plot_confusion_matrix is deprecated; Function `plot_confusion_matrix` is deprecated in 1.0 and will be removed in 1.2. Use one of the class methods: ConfusionMatrixDisplay.from_predictions or ConfusionMatrixDisplay.from_estimator.\n",
      "  warnings.warn(msg, category=FutureWarning)\n"
     ]
    },
    {
     "data": {
      "image/png": "[encoded data removed]",
      "text/plain": [
       "<Figure size 432x288 with 2 Axes>"
      ]
     },
     "metadata": {
      "needs_background": "light"
     },
     "output_type": "display_data"
    }
   ],
   "source": [
    "fig=plot_confusion_matrix(brfc, X_test_two[features], y_test_two)\n",
    "plt.show()"
   ]
  },
  {
   "cell_type": "markdown",
   "metadata": {},
   "source": [
    "### Save scorer and classifier"
   ]
  },
  {
   "cell_type": "code",
   "execution_count": 8,
   "metadata": {},
   "outputs": [
    {
     "data": {
      "text/plain": [
       "['comment_classifier.pkl']"
      ]
     },
     "execution_count": 8,
     "metadata": {},
     "output_type": "execute_result"
    }
   ],
   "source": [
    "joblib.dump(sentence_scorer, 'sentence_scorer.pkl', compress=9)\n",
    "joblib.dump(brfc, 'comment_classifier.pkl', compress=9)"
   ]
  },
  {
   "cell_type": "code",
   "execution_count": null,
   "metadata": {},
   "outputs": [],
   "source": []
  }
 ],
 "metadata": {
  "kernelspec": {
   "display_name": "Python 3",
   "language": "python",
   "name": "python3"
  },
  "language_info": {
   "codemirror_mode": {
    "name": "ipython",
    "version": 3
   },
   "file_extension": ".py",
   "mimetype": "text/x-python",
   "name": "python",
   "nbconvert_exporter": "python",
   "pygments_lexer": "ipython3",
   "version": "3.8.3"
  }
 },
 "nbformat": 4,
 "nbformat_minor": 4
}
